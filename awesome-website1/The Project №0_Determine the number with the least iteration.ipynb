{
 "cells": [
  {
   "cell_type": "code",
   "execution_count": null,
   "metadata": {},
   "outputs": [],
   "source": [
    "# The Project №0: Determine the number with the least iteration\n",
    "\n",
    "import numpy as np \n",
    "rand_number = np.random.randint(1, 101) # set the minimum and the maximum random borders in range of (1, 100) as int\n",
    "print(f\"Загадано число в диапазоне от {1} до {100}\") \n",
    "\n",
    "iteration_count = int()  \n",
    "\n",
    "def determine_function(rand_number): # call the function to determine the random number using bisection method\n",
    "    iteration_count = 0 # set the count of iteration\n",
    "    first = 1 # set the left border of the range need for bisection method\n",
    "    last = 100 # set the right border of the range need for bisection method\n",
    "    my_number = 0\n",
    "    \n",
    "    while my_number != rand_number:\n",
    "        iteration_count += 1\n",
    "        my_number = (first + last) // 2\n",
    "        if rand_number == my_number:\n",
    "            break\n",
    "        elif rand_number > my_number:\n",
    "            first = my_number + 1\n",
    "        elif rand_number < my_number:\n",
    "            last = my_number - 1\n",
    "    return(iteration_count)\n",
    "\n",
    "print(f\"Число {rand_number} угадано за {determine_function(rand_number)} итераций\")\n",
    "\n",
    "def mean_iteretion_count(determine_function): # call the function to determine the mean count of itereation   \n",
    "    iteration_count_mean = []\n",
    "    rand_array = np.random.randint(1, 101, size = 10000) # set the function testing times = 10000 in range of (1, 100)\n",
    "    \n",
    "    for i in rand_array:\n",
    "        iteration_count_mean.append(determine_function(i))\n",
    "    score = int(np.mean(iteration_count_mean))\n",
    "    \n",
    "    return(score)\n",
    "\n",
    "print(f\"Среднее число итераций - {mean_iteretion_count(determine_function)}\")"
   ]
  }
 ],
 "metadata": {
  "kernelspec": {
   "display_name": "Python 3",
   "language": "python",
   "name": "python3"
  },
  "language_info": {
   "codemirror_mode": {
    "name": "ipython",
    "version": 3
   },
   "file_extension": ".py",
   "mimetype": "text/x-python",
   "name": "python",
   "nbconvert_exporter": "python",
   "pygments_lexer": "ipython3",
   "version": "3.8.5"
  }
 },
 "nbformat": 4,
 "nbformat_minor": 4
}
